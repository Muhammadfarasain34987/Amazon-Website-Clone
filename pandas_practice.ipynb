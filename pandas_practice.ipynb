{
  "nbformat": 4,
  "nbformat_minor": 0,
  "metadata": {
    "colab": {
      "provenance": [],
      "authorship_tag": "ABX9TyNoXqBqq/ColebF/hy8e2PY",
      "include_colab_link": true
    },
    "kernelspec": {
      "name": "python3",
      "display_name": "Python 3"
    },
    "language_info": {
      "name": "python"
    }
  },
  "cells": [
    {
      "cell_type": "markdown",
      "metadata": {
        "id": "view-in-github",
        "colab_type": "text"
      },
      "source": [
        "<a href=\"https://colab.research.google.com/github/Muhammadfarasain34987/Amazon-Website-Clone/blob/main/pandas_practice.ipynb\" target=\"_parent\"><img src=\"https://colab.research.google.com/assets/colab-badge.svg\" alt=\"Open In Colab\"/></a>"
      ]
    },
    {
      "cell_type": "code",
      "execution_count": 3,
      "metadata": {
        "id": "e6764c4f"
      },
      "outputs": [],
      "source": [
        "# first to import numpy as np for numpy array operations\n",
        "import numpy as np\n"
      ]
    },
    {
      "cell_type": "code",
      "source": [],
      "metadata": {
        "id": "NnXUehSdl2mV"
      },
      "execution_count": null,
      "outputs": []
    },
    {
      "cell_type": "code",
      "execution_count": 4,
      "metadata": {
        "id": "b689ee97",
        "outputId": "df365c26-c729-4f01-a861-7bea0593d688",
        "colab": {
          "base_uri": "https://localhost:8080/"
        }
      },
      "outputs": [
        {
          "output_type": "stream",
          "name": "stdout",
          "text": [
            "[1 2 3]\n",
            "[[1 2]\n",
            " [3 4]]\n",
            "[[[1]\n",
            "  [2]]\n",
            "\n",
            " [[3]\n",
            "  [4]]]\n"
          ]
        }
      ],
      "source": [
        "# 1D Array\n",
        "a = np.array([1, 2, 3])\n",
        "\n",
        "# 2D Array\n",
        "b = np.array([[1, 2], [3, 4]])\n",
        "\n",
        "# 3D Array\n",
        "c = np.array([[[1], [2]], [[3], [4]]])\n",
        "\n",
        "print(a)\n",
        "print(b)\n",
        "print(c)"
      ]
    },
    {
      "cell_type": "code",
      "execution_count": 5,
      "metadata": {
        "id": "b59c9b12",
        "outputId": "f83066e0-af1a-4b50-cfc1-e5019730b9f2",
        "colab": {
          "base_uri": "https://localhost:8080/"
        }
      },
      "outputs": [
        {
          "output_type": "execute_result",
          "data": {
            "text/plain": [
              "24"
            ]
          },
          "metadata": {},
          "execution_count": 5
        }
      ],
      "source": [
        "a.shape        # Shape of array\n",
        "a.ndim         # Number of dimensions\n",
        "a.dtype        # Data type\n",
        "a.size         # Total number of elements\n",
        "a.itemsize     # Size (in bytes) of each element\n",
        "a.nbytes       # Total bytes used\n"
      ]
    },
    {
      "cell_type": "code",
      "execution_count": 6,
      "metadata": {
        "id": "bed41432",
        "outputId": "2c8c2622-c3cb-4746-dee9-2dc41d46ecbe",
        "colab": {
          "base_uri": "https://localhost:8080/"
        }
      },
      "outputs": [
        {
          "output_type": "execute_result",
          "data": {
            "text/plain": [
              "array([[1.39069238e-309, 1.39069238e-309],\n",
              "       [1.39069238e-309, 1.39069238e-309],\n",
              "       [1.39069238e-309, 1.39069238e-309]])"
            ]
          },
          "metadata": {},
          "execution_count": 6
        }
      ],
      "source": [
        ">>> np.zeros((3,4)) #Create an array of zeros\n",
        ">>> np.ones((2,3,4),dtype=np.int16) #Create an array of ones\n",
        ">>> d = np.arange(10,25,5)#Create an array of evenly spaced values (step value)\n",
        ">>> np.linspace(0,2,9) #Create an array of evenlyspaced values (number of samples)\n",
        ">>> e = np.full((2,2),7)#Create a constant array\n",
        ">>> f = np.eye(2) #Create a 2X2 identity matrix\n",
        ">>> np.random.random((2,2)) #Create an array with random values\n",
        ">>> np.empty((3,2)) #Create an empty array\n"
      ]
    },
    {
      "cell_type": "code",
      "execution_count": 7,
      "metadata": {
        "id": "29c47058",
        "outputId": "54a1052c-ce0f-4e61-dc36-f67c3be3df6d",
        "colab": {
          "base_uri": "https://localhost:8080/"
        }
      },
      "outputs": [
        {
          "output_type": "stream",
          "name": "stdout",
          "text": [
            "[[0. 0. 0.]\n",
            " [0. 0. 0.]]\n",
            "\n",
            "[[0. 0. 0. 0. 0. 0. 0. 0. 0.]\n",
            " [0. 0. 0. 0. 0. 0. 0. 0. 0.]\n",
            " [0. 0. 0. 0. 0. 0. 0. 0. 0.]\n",
            " [0. 0. 0. 0. 0. 0. 0. 0. 0.]\n",
            " [0. 0. 0. 0. 0. 0. 0. 0. 0.]\n",
            " [0. 0. 0. 0. 0. 0. 0. 0. 0.]\n",
            " [0. 0. 0. 0. 0. 0. 0. 0. 0.]\n",
            " [0. 0. 0. 0. 0. 0. 0. 0. 0.]]\n"
          ]
        }
      ],
      "source": [
        "a=np.zeros((2,3))\n",
        "print(a)\n",
        "print()\n",
        "b=np.zeros((8,9))\n",
        "print(b)"
      ]
    },
    {
      "cell_type": "code",
      "source": [
        "a=np.ones((3,4),dtype=int)\n",
        "a"
      ],
      "metadata": {
        "colab": {
          "base_uri": "https://localhost:8080/"
        },
        "id": "_i94HkQ3nTva",
        "outputId": "d687128e-0a14-4a79-8637-577e79ecf774"
      },
      "execution_count": 8,
      "outputs": [
        {
          "output_type": "execute_result",
          "data": {
            "text/plain": [
              "array([[1, 1, 1, 1],\n",
              "       [1, 1, 1, 1],\n",
              "       [1, 1, 1, 1]])"
            ]
          },
          "metadata": {},
          "execution_count": 8
        }
      ]
    },
    {
      "cell_type": "code",
      "source": [
        "arr = np.arange(6)       # [0 1 2 3 4 5]\n",
        "arr.reshape(2, 3)        # (2 rows, 3 columns)\n",
        "arr.flatten()            # Flatten to 1D\n",
        "arr.resize((3, 2))       # Resizes in-place"
      ],
      "metadata": {
        "id": "LTS9PXfBndbM"
      },
      "execution_count": 9,
      "outputs": []
    },
    {
      "cell_type": "code",
      "source": [
        "import numpy as np\n",
        "\n",
        "arr = np.arange(6)\n",
        "print(\"Original array:\", arr)\n",
        "# Output: [0 1 2 3 4 5]"
      ],
      "metadata": {
        "colab": {
          "base_uri": "https://localhost:8080/"
        },
        "id": "nAJA7x9mnjrR",
        "outputId": "01e1a806-4762-4220-ce2f-f40836833779"
      },
      "execution_count": 10,
      "outputs": [
        {
          "output_type": "stream",
          "name": "stdout",
          "text": [
            "Original array: [0 1 2 3 4 5]\n"
          ]
        }
      ]
    },
    {
      "cell_type": "code",
      "source": [
        "arr = np.arange(6)\n",
        "arr.resize((3, 2))  # In-place\n",
        "print(\"Resized in-place to (3, 2):\\n\", arr)"
      ],
      "metadata": {
        "colab": {
          "base_uri": "https://localhost:8080/"
        },
        "id": "204qrOy3nmkE",
        "outputId": "a7a61de2-7d04-4b7a-b64c-7c1d0d625100"
      },
      "execution_count": 11,
      "outputs": [
        {
          "output_type": "stream",
          "name": "stdout",
          "text": [
            "Resized in-place to (3, 2):\n",
            " [[0 1]\n",
            " [2 3]\n",
            " [4 5]]\n"
          ]
        }
      ]
    },
    {
      "cell_type": "code",
      "source": [
        "arr = np.arange(6)\n",
        "arr.resize((3, 2))  # In-place\n",
        "print(\"Resized in-place to (3, 2):\\n\", arr)\n"
      ],
      "metadata": {
        "colab": {
          "base_uri": "https://localhost:8080/"
        },
        "id": "XQ87y-g7nqe-",
        "outputId": "44010949-850b-40fc-848a-53c3f5f2d6d9"
      },
      "execution_count": 12,
      "outputs": [
        {
          "output_type": "stream",
          "name": "stdout",
          "text": [
            "Resized in-place to (3, 2):\n",
            " [[0 1]\n",
            " [2 3]\n",
            " [4 5]]\n"
          ]
        }
      ]
    },
    {
      "cell_type": "code",
      "source": [
        "# Indexing\n",
        "arr = np.array([10, 20, 30, 40, 50])\n",
        "print(\"Element at index 2:\", arr[2])"
      ],
      "metadata": {
        "colab": {
          "base_uri": "https://localhost:8080/"
        },
        "id": "55YFYPO1nvsL",
        "outputId": "14d842ca-962e-40d2-ab03-fa135b564052"
      },
      "execution_count": 13,
      "outputs": [
        {
          "output_type": "stream",
          "name": "stdout",
          "text": [
            "Element at index 2: 30\n"
          ]
        }
      ]
    },
    {
      "cell_type": "code",
      "source": [
        "# Slicing\n",
        "print(\"Elements from index 1 to 3:\", arr[1:4])\n",
        "# Output: [20 30 40]"
      ],
      "metadata": {
        "colab": {
          "base_uri": "https://localhost:8080/"
        },
        "id": "luD5AXNdnzEf",
        "outputId": "b101a7ee-7f89-4892-8735-6633f9354fe8"
      },
      "execution_count": 14,
      "outputs": [
        {
          "output_type": "stream",
          "name": "stdout",
          "text": [
            "Elements from index 1 to 3: [20 30 40]\n"
          ]
        }
      ]
    },
    {
      "cell_type": "code",
      "source": [
        "a = np.array([1, 2, 3])\n",
        "b = np.array([4, 5, 6])\n",
        "\n",
        "c=a + b       # Element-wise addition\n",
        "d=a * b       # Element-wise multiplication\n",
        "e=a / b       # Division\n",
        "f=a ** 2      # Power\n",
        "\n",
        "# Simple OPerations\n",
        "print(c)\n",
        "print(d)\n",
        "print(e)\n",
        "print(f)\n",
        "\n",
        "# np operations\n",
        "np.add(a, b)"
      ],
      "metadata": {
        "colab": {
          "base_uri": "https://localhost:8080/"
        },
        "id": "ay1VUf7On2xk",
        "outputId": "08c8e80b-b857-4849-e1b1-b05b9711eded"
      },
      "execution_count": 15,
      "outputs": [
        {
          "output_type": "stream",
          "name": "stdout",
          "text": [
            "[5 7 9]\n",
            "[ 4 10 18]\n",
            "[0.25 0.4  0.5 ]\n",
            "[1 4 9]\n"
          ]
        },
        {
          "output_type": "execute_result",
          "data": {
            "text/plain": [
              "array([5, 7, 9])"
            ]
          },
          "metadata": {},
          "execution_count": 15
        }
      ]
    },
    {
      "cell_type": "code",
      "source": [
        "np.multiply(a, b) # Multiply a and b"
      ],
      "metadata": {
        "colab": {
          "base_uri": "https://localhost:8080/"
        },
        "id": "e3CeIRK1n6oq",
        "outputId": "aa26f281-8c05-420f-adb0-6a54ad4102b9"
      },
      "execution_count": 16,
      "outputs": [
        {
          "output_type": "execute_result",
          "data": {
            "text/plain": [
              "array([ 4, 10, 18])"
            ]
          },
          "metadata": {},
          "execution_count": 16
        }
      ]
    },
    {
      "cell_type": "code",
      "source": [
        "np.exp(a)       # Exponential\n"
      ],
      "metadata": {
        "colab": {
          "base_uri": "https://localhost:8080/"
        },
        "id": "CKLCaeyJn9g9",
        "outputId": "9546746a-8cd1-4196-c053-7ba0e0138a32"
      },
      "execution_count": 17,
      "outputs": [
        {
          "output_type": "execute_result",
          "data": {
            "text/plain": [
              "array([ 2.71828183,  7.3890561 , 20.08553692])"
            ]
          },
          "metadata": {},
          "execution_count": 17
        }
      ]
    },
    {
      "cell_type": "code",
      "source": [
        " np.sqrt(a)      # Square root"
      ],
      "metadata": {
        "colab": {
          "base_uri": "https://localhost:8080/"
        },
        "id": "iNq3aeXXoA60",
        "outputId": "1cc99947-2ebb-4296-b590-f27daa526002"
      },
      "execution_count": 18,
      "outputs": [
        {
          "output_type": "execute_result",
          "data": {
            "text/plain": [
              "array([1.        , 1.41421356, 1.73205081])"
            ]
          },
          "metadata": {},
          "execution_count": 18
        }
      ]
    },
    {
      "cell_type": "code",
      "source": [
        "# sum functions\n",
        "arr = np.array([[1, 2, 3], [4, 5, 6]])\n",
        "\n",
        "np.sum(arr)"
      ],
      "metadata": {
        "colab": {
          "base_uri": "https://localhost:8080/"
        },
        "id": "cOueRasXoESW",
        "outputId": "f4b5cd34-73df-4a4f-8f25-4b5f39dc0260"
      },
      "execution_count": 19,
      "outputs": [
        {
          "output_type": "execute_result",
          "data": {
            "text/plain": [
              "np.int64(21)"
            ]
          },
          "metadata": {},
          "execution_count": 19
        }
      ]
    },
    {
      "cell_type": "code",
      "source": [
        "np.mean(arr) # mean of array"
      ],
      "metadata": {
        "colab": {
          "base_uri": "https://localhost:8080/"
        },
        "id": "HiRLAqwwoKOp",
        "outputId": "462d6951-cd03-4619-b299-9e9fb0f892a3"
      },
      "execution_count": 20,
      "outputs": [
        {
          "output_type": "execute_result",
          "data": {
            "text/plain": [
              "np.float64(3.5)"
            ]
          },
          "metadata": {},
          "execution_count": 20
        }
      ]
    },
    {
      "cell_type": "code",
      "source": [
        "# minimum element in array\n",
        "np.min(arr)\n"
      ],
      "metadata": {
        "colab": {
          "base_uri": "https://localhost:8080/"
        },
        "id": "YdboyQ_doNFm",
        "outputId": "fbd0010b-35e0-45ca-de0a-37a1cb0b95b1"
      },
      "execution_count": 21,
      "outputs": [
        {
          "output_type": "execute_result",
          "data": {
            "text/plain": [
              "np.int64(1)"
            ]
          },
          "metadata": {},
          "execution_count": 21
        }
      ]
    },
    {
      "cell_type": "code",
      "source": [
        "# find max element in array\n",
        "np.max(arr)\n"
      ],
      "metadata": {
        "colab": {
          "base_uri": "https://localhost:8080/"
        },
        "id": "Dvoi722yoQTR",
        "outputId": "fa8bfe13-7556-49dc-c54d-1487e9cc69f7"
      },
      "execution_count": null,
      "outputs": [
        {
          "output_type": "execute_result",
          "data": {
            "text/plain": [
              "np.int64(6)"
            ]
          },
          "metadata": {},
          "execution_count": 29
        }
      ]
    },
    {
      "cell_type": "code",
      "source": [
        "a = np.array([1, 2, 3, 4, 5])\n",
        "mask = a > 3\n",
        "a[mask]"
      ],
      "metadata": {
        "colab": {
          "base_uri": "https://localhost:8080/"
        },
        "id": "0UCLBJigoS-C",
        "outputId": "9fb7b3d2-d421-440d-e05a-4e2146ea4dd4"
      },
      "execution_count": null,
      "outputs": [
        {
          "output_type": "execute_result",
          "data": {
            "text/plain": [
              "array([4, 5])"
            ]
          },
          "metadata": {},
          "execution_count": 30
        }
      ]
    },
    {
      "cell_type": "code",
      "source": [
        "a = np.array([[1, 2, 3],\n",
        "              [4, 5, 6]])\n",
        "b = np.array([10, 20, 30])\n",
        "\n",
        "a + b   # Broadcasting b across rows"
      ],
      "metadata": {
        "colab": {
          "base_uri": "https://localhost:8080/"
        },
        "id": "lW8SbzR0oVzK",
        "outputId": "a2c30085-85f2-41f3-f862-b1d8a84f799d"
      },
      "execution_count": null,
      "outputs": [
        {
          "output_type": "execute_result",
          "data": {
            "text/plain": [
              "array([[11, 22, 33],\n",
              "       [14, 25, 36]])"
            ]
          },
          "metadata": {},
          "execution_count": 31
        }
      ]
    },
    {
      "cell_type": "code",
      "source": [
        "np.random.seed(0)\n",
        "np.random.rand(2, 3)           # Uniform [0, 1)\n",
        "np.random.randn(2, 3)          # Standard normal\n",
        "np.random.randint(0, 10, size=(2, 3))  # Random integers\n",
        "\n",
        "np.random.shuffle(arr)         # Shuffle array in-place\n"
      ],
      "metadata": {
        "id": "FhmWgiuKoYmB"
      },
      "execution_count": null,
      "outputs": []
    },
    {
      "cell_type": "code",
      "source": [
        "import numpy as np\n",
        "\n",
        "np.random.seed(0)\n",
        "rand_uniform = np.random.rand(2, 3)\n",
        "print(\"Random uniform [0, 1):\\n\", rand_uniform)"
      ],
      "metadata": {
        "colab": {
          "base_uri": "https://localhost:8080/"
        },
        "id": "oh5MWO6WobNo",
        "outputId": "f002a6a3-dd7c-43d1-e4d0-ac3d3249c311"
      },
      "execution_count": null,
      "outputs": [
        {
          "output_type": "stream",
          "name": "stdout",
          "text": [
            "Random uniform [0, 1):\n",
            " [[0.5488135  0.71518937 0.60276338]\n",
            " [0.54488318 0.4236548  0.64589411]]\n"
          ]
        }
      ]
    },
    {
      "cell_type": "code",
      "source": [
        "a=np.arange(1,13).reshape(3,4)\n",
        "b=np.arange(13,25).reshape(3,4)\n",
        "s=np.concatenate((a,b),axis=1)\n",
        "s"
      ],
      "metadata": {
        "colab": {
          "base_uri": "https://localhost:8080/"
        },
        "id": "aH1B-_2goeZu",
        "outputId": "c1be8a88-52aa-4c4a-9955-cee2c5783543"
      },
      "execution_count": null,
      "outputs": [
        {
          "output_type": "execute_result",
          "data": {
            "text/plain": [
              "array([[ 1,  2,  3,  4, 13, 14, 15, 16],\n",
              "       [ 5,  6,  7,  8, 17, 18, 19, 20],\n",
              "       [ 9, 10, 11, 12, 21, 22, 23, 24]])"
            ]
          },
          "metadata": {},
          "execution_count": 35
        }
      ]
    },
    {
      "cell_type": "code",
      "source": [
        "a=np.arange(1,7)\n",
        "print(a.shape)\n",
        "print()\n",
        "print(a)\n",
        "print()\n",
        "print(a[np.newaxis,:].shape)\n",
        "print()\n",
        "print(a[np.newaxis,:])\n",
        "s=a[np.newaxis,:]\n",
        "s[np.newaxis,:]"
      ],
      "metadata": {
        "colab": {
          "base_uri": "https://localhost:8080/",
          "height": 211
        },
        "id": "a7wBgFb8onum",
        "outputId": "762274ad-2eaa-4fb7-eeb5-a837e2932c53"
      },
      "execution_count": 2,
      "outputs": [
        {
          "output_type": "error",
          "ename": "NameError",
          "evalue": "name 'np' is not defined",
          "traceback": [
            "\u001b[0;31m---------------------------------------------------------------------------\u001b[0m",
            "\u001b[0;31mNameError\u001b[0m                                 Traceback (most recent call last)",
            "\u001b[0;32m/tmp/ipython-input-3081848576.py\u001b[0m in \u001b[0;36m<cell line: 0>\u001b[0;34m()\u001b[0m\n\u001b[0;32m----> 1\u001b[0;31m \u001b[0ma\u001b[0m\u001b[0;34m=\u001b[0m\u001b[0mnp\u001b[0m\u001b[0;34m.\u001b[0m\u001b[0marange\u001b[0m\u001b[0;34m(\u001b[0m\u001b[0;36m1\u001b[0m\u001b[0;34m,\u001b[0m\u001b[0;36m7\u001b[0m\u001b[0;34m)\u001b[0m\u001b[0;34m\u001b[0m\u001b[0;34m\u001b[0m\u001b[0m\n\u001b[0m\u001b[1;32m      2\u001b[0m \u001b[0mprint\u001b[0m\u001b[0;34m(\u001b[0m\u001b[0ma\u001b[0m\u001b[0;34m.\u001b[0m\u001b[0mshape\u001b[0m\u001b[0;34m)\u001b[0m\u001b[0;34m\u001b[0m\u001b[0;34m\u001b[0m\u001b[0m\n\u001b[1;32m      3\u001b[0m \u001b[0mprint\u001b[0m\u001b[0;34m(\u001b[0m\u001b[0;34m)\u001b[0m\u001b[0;34m\u001b[0m\u001b[0;34m\u001b[0m\u001b[0m\n\u001b[1;32m      4\u001b[0m \u001b[0mprint\u001b[0m\u001b[0;34m(\u001b[0m\u001b[0ma\u001b[0m\u001b[0;34m)\u001b[0m\u001b[0;34m\u001b[0m\u001b[0;34m\u001b[0m\u001b[0m\n\u001b[1;32m      5\u001b[0m \u001b[0mprint\u001b[0m\u001b[0;34m(\u001b[0m\u001b[0;34m)\u001b[0m\u001b[0;34m\u001b[0m\u001b[0;34m\u001b[0m\u001b[0m\n",
            "\u001b[0;31mNameError\u001b[0m: name 'np' is not defined"
          ]
        }
      ]
    },
    {
      "cell_type": "code",
      "source": [
        "np.expand_dims(a,axis=0).shape"
      ],
      "metadata": {
        "colab": {
          "base_uri": "https://localhost:8080/"
        },
        "id": "ezIjZQUOozK0",
        "outputId": "903337b9-8bef-453b-adf2-a14dfeb92e99"
      },
      "execution_count": null,
      "outputs": [
        {
          "output_type": "execute_result",
          "data": {
            "text/plain": [
              "(1, 6)"
            ]
          },
          "metadata": {},
          "execution_count": 38
        }
      ]
    },
    {
      "cell_type": "code",
      "source": [
        "a = np.array([[1, 2, 3, 4], [5, 6, 7, 8], [9, 10, 11, 12]])\n",
        "np.nonzero(a)\n",
        "print(a[np.nonzero(a)])"
      ],
      "metadata": {
        "colab": {
          "base_uri": "https://localhost:8080/"
        },
        "id": "3uaRyHD6o1uz",
        "outputId": "f700b464-9458-4a37-e955-699cb6c68d0f"
      },
      "execution_count": null,
      "outputs": [
        {
          "output_type": "stream",
          "name": "stdout",
          "text": [
            "[ 1  2  3  4  5  6  7  8  9 10 11 12]\n"
          ]
        }
      ]
    },
    {
      "cell_type": "code",
      "source": [
        "a=np.arange(1,4)\n",
        "b=np.arange(5,8)\n",
        "print(a)\n",
        "print()\n",
        "print(b)\n",
        "print()\n",
        "c=list(zip(a,b))\n",
        "for i in c:\n",
        "    print(i)"
      ],
      "metadata": {
        "colab": {
          "base_uri": "https://localhost:8080/"
        },
        "id": "t7SrGVwyo8Xn",
        "outputId": "fb70ea4b-d1c6-4289-b4bc-ce2f832bd4ba"
      },
      "execution_count": null,
      "outputs": [
        {
          "output_type": "stream",
          "name": "stdout",
          "text": [
            "[1 2 3]\n",
            "\n",
            "[5 6 7]\n",
            "\n",
            "(np.int64(1), np.int64(5))\n",
            "(np.int64(2), np.int64(6))\n",
            "(np.int64(3), np.int64(7))\n"
          ]
        }
      ]
    },
    {
      "cell_type": "code",
      "source": [
        "a=np.arange(1,13).reshape(3,4)\n",
        "b=np.arange(13,25).reshape(3,4)\n",
        "print(np.vstack((a,b)))\n",
        "print()\n",
        "print(np.hstack((a,b)))"
      ],
      "metadata": {
        "colab": {
          "base_uri": "https://localhost:8080/"
        },
        "id": "Rl40wSblpEqP",
        "outputId": "fa255f8d-756a-4a49-f250-a47620bd6258"
      },
      "execution_count": null,
      "outputs": [
        {
          "output_type": "stream",
          "name": "stdout",
          "text": [
            "[[ 1  2  3  4]\n",
            " [ 5  6  7  8]\n",
            " [ 9 10 11 12]\n",
            " [13 14 15 16]\n",
            " [17 18 19 20]\n",
            " [21 22 23 24]]\n",
            "\n",
            "[[ 1  2  3  4 13 14 15 16]\n",
            " [ 5  6  7  8 17 18 19 20]\n",
            " [ 9 10 11 12 21 22 23 24]]\n"
          ]
        }
      ]
    },
    {
      "cell_type": "code",
      "source": [
        "a=np.arange(1,13)\n",
        "print(np.sum(a))\n",
        "print()\n",
        "b=np.arange(13,25)\n",
        "np.sum([a,b])"
      ],
      "metadata": {
        "colab": {
          "base_uri": "https://localhost:8080/"
        },
        "id": "WrClKREKpLDV",
        "outputId": "131fba0d-c3c8-4672-f96d-6d11f7312029"
      },
      "execution_count": null,
      "outputs": [
        {
          "output_type": "stream",
          "name": "stdout",
          "text": [
            "78\n",
            "\n"
          ]
        },
        {
          "output_type": "execute_result",
          "data": {
            "text/plain": [
              "np.int64(300)"
            ]
          },
          "metadata": {},
          "execution_count": 45
        }
      ]
    },
    {
      "cell_type": "code",
      "source": [
        "a=np.array([1,2,3,2,1,4,2,5,35,33,5,22,3,1,43])\n",
        "print(np.unique(a,return_index=True))"
      ],
      "metadata": {
        "colab": {
          "base_uri": "https://localhost:8080/"
        },
        "id": "-fTuhk0HpU_t",
        "outputId": "878aead7-00b0-424d-e3bd-d23cf2e9cded"
      },
      "execution_count": null,
      "outputs": [
        {
          "output_type": "stream",
          "name": "stdout",
          "text": [
            "(array([ 1,  2,  3,  4,  5, 22, 33, 35, 43]), array([ 0,  1,  2,  5,  7, 11,  9,  8, 14]))\n"
          ]
        }
      ]
    },
    {
      "cell_type": "code",
      "source": [
        "a=np.arange(1,14)\n",
        "print(np.flip(a))\n",
        "print()\n",
        "b=np.arange(1,25).reshape(4,6)\n",
        "print(b)\n",
        "print()\n",
        "print(np.flip(b))\n",
        "print(b.shape)\n",
        "c=b[np.newaxis,:]\n",
        "print()\n",
        "print(c)\n",
        "np.flip(c)"
      ],
      "metadata": {
        "colab": {
          "base_uri": "https://localhost:8080/"
        },
        "id": "-TRMm5DJpazL",
        "outputId": "c73e5b66-a0e1-4ef7-a851-23dbe404f052"
      },
      "execution_count": null,
      "outputs": [
        {
          "output_type": "stream",
          "name": "stdout",
          "text": [
            "[13 12 11 10  9  8  7  6  5  4  3  2  1]\n",
            "\n",
            "[[ 1  2  3  4  5  6]\n",
            " [ 7  8  9 10 11 12]\n",
            " [13 14 15 16 17 18]\n",
            " [19 20 21 22 23 24]]\n",
            "\n",
            "[[24 23 22 21 20 19]\n",
            " [18 17 16 15 14 13]\n",
            " [12 11 10  9  8  7]\n",
            " [ 6  5  4  3  2  1]]\n",
            "(4, 6)\n",
            "\n",
            "[[[ 1  2  3  4  5  6]\n",
            "  [ 7  8  9 10 11 12]\n",
            "  [13 14 15 16 17 18]\n",
            "  [19 20 21 22 23 24]]]\n"
          ]
        },
        {
          "output_type": "execute_result",
          "data": {
            "text/plain": [
              "array([[[24, 23, 22, 21, 20, 19],\n",
              "        [18, 17, 16, 15, 14, 13],\n",
              "        [12, 11, 10,  9,  8,  7],\n",
              "        [ 6,  5,  4,  3,  2,  1]]])"
            ]
          },
          "metadata": {},
          "execution_count": 47
        }
      ]
    },
    {
      "cell_type": "code",
      "source": [
        "a=np.arange(12).reshape(3,4)\n",
        "print(a)\n",
        "print()\n",
        "print(a.T)\n",
        "a=np.arange(18).reshape(2,3,3)\n",
        "print()\n",
        "print(a)\n",
        "print()\n",
        "print(a.T)"
      ],
      "metadata": {
        "colab": {
          "base_uri": "https://localhost:8080/",
          "height": 211
        },
        "id": "wbXvnOmppmo7",
        "outputId": "40fd3a6e-8420-4cf5-c4fb-7f76b266fb41"
      },
      "execution_count": 1,
      "outputs": [
        {
          "output_type": "error",
          "ename": "NameError",
          "evalue": "name 'np' is not defined",
          "traceback": [
            "\u001b[0;31m---------------------------------------------------------------------------\u001b[0m",
            "\u001b[0;31mNameError\u001b[0m                                 Traceback (most recent call last)",
            "\u001b[0;32m/tmp/ipython-input-1509971909.py\u001b[0m in \u001b[0;36m<cell line: 0>\u001b[0;34m()\u001b[0m\n\u001b[0;32m----> 1\u001b[0;31m \u001b[0ma\u001b[0m\u001b[0;34m=\u001b[0m\u001b[0mnp\u001b[0m\u001b[0;34m.\u001b[0m\u001b[0marange\u001b[0m\u001b[0;34m(\u001b[0m\u001b[0;36m12\u001b[0m\u001b[0;34m)\u001b[0m\u001b[0;34m.\u001b[0m\u001b[0mreshape\u001b[0m\u001b[0;34m(\u001b[0m\u001b[0;36m3\u001b[0m\u001b[0;34m,\u001b[0m\u001b[0;36m4\u001b[0m\u001b[0;34m)\u001b[0m\u001b[0;34m\u001b[0m\u001b[0;34m\u001b[0m\u001b[0m\n\u001b[0m\u001b[1;32m      2\u001b[0m \u001b[0mprint\u001b[0m\u001b[0;34m(\u001b[0m\u001b[0ma\u001b[0m\u001b[0;34m)\u001b[0m\u001b[0;34m\u001b[0m\u001b[0;34m\u001b[0m\u001b[0m\n\u001b[1;32m      3\u001b[0m \u001b[0mprint\u001b[0m\u001b[0;34m(\u001b[0m\u001b[0;34m)\u001b[0m\u001b[0;34m\u001b[0m\u001b[0;34m\u001b[0m\u001b[0m\n\u001b[1;32m      4\u001b[0m \u001b[0mprint\u001b[0m\u001b[0;34m(\u001b[0m\u001b[0ma\u001b[0m\u001b[0;34m.\u001b[0m\u001b[0mT\u001b[0m\u001b[0;34m)\u001b[0m\u001b[0;34m\u001b[0m\u001b[0;34m\u001b[0m\u001b[0m\n\u001b[1;32m      5\u001b[0m \u001b[0ma\u001b[0m\u001b[0;34m=\u001b[0m\u001b[0mnp\u001b[0m\u001b[0;34m.\u001b[0m\u001b[0marange\u001b[0m\u001b[0;34m(\u001b[0m\u001b[0;36m18\u001b[0m\u001b[0;34m)\u001b[0m\u001b[0;34m.\u001b[0m\u001b[0mreshape\u001b[0m\u001b[0;34m(\u001b[0m\u001b[0;36m2\u001b[0m\u001b[0;34m,\u001b[0m\u001b[0;36m3\u001b[0m\u001b[0;34m,\u001b[0m\u001b[0;36m3\u001b[0m\u001b[0;34m)\u001b[0m\u001b[0;34m\u001b[0m\u001b[0;34m\u001b[0m\u001b[0m\n",
            "\u001b[0;31mNameError\u001b[0m: name 'np' is not defined"
          ]
        }
      ]
    },
    {
      "cell_type": "code",
      "source": [
        "np.flip(c[0,1])"
      ],
      "metadata": {
        "colab": {
          "base_uri": "https://localhost:8080/"
        },
        "id": "hOZuaXT3pr_d",
        "outputId": "51ae69a2-ae2f-41f6-cba9-1f0829d7cdf8"
      },
      "execution_count": null,
      "outputs": [
        {
          "output_type": "execute_result",
          "data": {
            "text/plain": [
              "array([12, 11, 10,  9,  8,  7])"
            ]
          },
          "metadata": {},
          "execution_count": 49
        }
      ]
    },
    {
      "cell_type": "code",
      "source": [
        "print(np.eye(5))\n"
      ],
      "metadata": {
        "colab": {
          "base_uri": "https://localhost:8080/"
        },
        "id": "1bolVZ_spwJu",
        "outputId": "e64136cc-dd6f-4dba-e494-f61216ceb032"
      },
      "execution_count": null,
      "outputs": [
        {
          "output_type": "stream",
          "name": "stdout",
          "text": [
            "[[1. 0. 0. 0. 0.]\n",
            " [0. 1. 0. 0. 0.]\n",
            " [0. 0. 1. 0. 0.]\n",
            " [0. 0. 0. 1. 0.]\n",
            " [0. 0. 0. 0. 1.]]\n"
          ]
        }
      ]
    },
    {
      "cell_type": "code",
      "source": [
        "x = np.arange(5)\n",
        "row=x[np.newaxis,:]\n",
        "col=x[:,np.newaxis]\n",
        "print(row+col)"
      ],
      "metadata": {
        "colab": {
          "base_uri": "https://localhost:8080/"
        },
        "id": "r0lpTQdNp15i",
        "outputId": "c3d8ec55-d63a-49d9-d749-2e32284e3edb"
      },
      "execution_count": null,
      "outputs": [
        {
          "output_type": "stream",
          "name": "stdout",
          "text": [
            "[[0 1 2 3 4]\n",
            " [1 2 3 4 5]\n",
            " [2 3 4 5 6]\n",
            " [3 4 5 6 7]\n",
            " [4 5 6 7 8]]\n"
          ]
        }
      ]
    },
    {
      "cell_type": "code",
      "source": [
        "x = np.array([[ 0,  1,  2],\n",
        "              [ 3,  4,  5],\n",
        "              [ 6,  7,  8],\n",
        "              [ 9, 10, 11]])\n",
        "row=np.array([[1,1],[3,3]])\n",
        "col=np.array([[0,2],[0,2]])\n",
        "x[row,col]"
      ],
      "metadata": {
        "colab": {
          "base_uri": "https://localhost:8080/"
        },
        "id": "zdVvL928p7lt",
        "outputId": "b4933c55-8d80-4edf-da40-9852278505d5"
      },
      "execution_count": null,
      "outputs": [
        {
          "output_type": "execute_result",
          "data": {
            "text/plain": [
              "array([[ 3,  5],\n",
              "       [ 9, 11]])"
            ]
          },
          "metadata": {},
          "execution_count": 52
        }
      ]
    },
    {
      "cell_type": "code",
      "source": [
        "x = np.arange(35).reshape(5, 7)\n",
        "b=x>20\n",
        "b[:,5]"
      ],
      "metadata": {
        "colab": {
          "base_uri": "https://localhost:8080/"
        },
        "id": "2M5zKEm1qDzf",
        "outputId": "4a234a5f-5ff1-40f0-9cf8-3fe5d7eb6ae5"
      },
      "execution_count": null,
      "outputs": [
        {
          "output_type": "execute_result",
          "data": {
            "text/plain": [
              "array([False, False, False,  True,  True])"
            ]
          },
          "metadata": {},
          "execution_count": 53
        }
      ]
    },
    {
      "cell_type": "code",
      "source": [
        "x = np.array([[0, 1], [1, 1], [2, 2]])\n",
        "x.sum(-1)"
      ],
      "metadata": {
        "colab": {
          "base_uri": "https://localhost:8080/"
        },
        "id": "LkbVvuw7qG-S",
        "outputId": "9145d409-4faa-4fdd-cbb7-56f02a55bff0"
      },
      "execution_count": null,
      "outputs": [
        {
          "output_type": "execute_result",
          "data": {
            "text/plain": [
              "array([1, 2, 4])"
            ]
          },
          "metadata": {},
          "execution_count": 54
        }
      ]
    },
    {
      "cell_type": "code",
      "source": [
        "x = np.array([[ 0,  1,  2],\n",
        "              [ 3,  4,  5],\n",
        "              [ 6,  7,  8],\n",
        "              [ 9, 10, 11]])\n",
        "x[x.sum(-1) % 2 == 0]"
      ],
      "metadata": {
        "colab": {
          "base_uri": "https://localhost:8080/"
        },
        "id": "XsM_IBMeqMv6",
        "outputId": "7080a5cf-bc7a-4108-ee6c-cd1008775b2a"
      },
      "execution_count": null,
      "outputs": [
        {
          "output_type": "execute_result",
          "data": {
            "text/plain": [
              "array([[ 3,  4,  5],\n",
              "       [ 9, 10, 11]])"
            ]
          },
          "metadata": {},
          "execution_count": 55
        }
      ]
    },
    {
      "cell_type": "code",
      "source": [
        "a=np.empty((3,4))\n",
        "a"
      ],
      "metadata": {
        "colab": {
          "base_uri": "https://localhost:8080/"
        },
        "id": "jTqkanqfqR34",
        "outputId": "02ca5f2c-c595-4fa8-8a8b-98e2300a8e91"
      },
      "execution_count": null,
      "outputs": [
        {
          "output_type": "execute_result",
          "data": {
            "text/plain": [
              "array([[4.9e-324, 9.9e-324, 1.5e-323, 2.0e-323],\n",
              "       [2.5e-323, 3.0e-323, 3.5e-323, 4.0e-323],\n",
              "       [4.4e-323, 4.9e-323, 5.4e-323, 5.9e-323]])"
            ]
          },
          "metadata": {},
          "execution_count": 56
        }
      ]
    },
    {
      "cell_type": "code",
      "source": [
        "a=np.arange(1,50)\n",
        "np.where(a>45)"
      ],
      "metadata": {
        "colab": {
          "base_uri": "https://localhost:8080/"
        },
        "id": "mZGdsF7MqUOV",
        "outputId": "902da12b-c328-4aa0-ad93-247b170be7bd"
      },
      "execution_count": null,
      "outputs": [
        {
          "output_type": "execute_result",
          "data": {
            "text/plain": [
              "(array([45, 46, 47, 48]),)"
            ]
          },
          "metadata": {},
          "execution_count": 57
        }
      ]
    },
    {
      "cell_type": "code",
      "source": [
        "replace_0=np.where(a>47,0,a)\n",
        "replace_0"
      ],
      "metadata": {
        "colab": {
          "base_uri": "https://localhost:8080/"
        },
        "id": "gwaLupCYqXXT",
        "outputId": "a07c594a-cc4e-4a7f-ac1d-225e8b71196b"
      },
      "execution_count": null,
      "outputs": [
        {
          "output_type": "execute_result",
          "data": {
            "text/plain": [
              "array([ 1,  2,  3,  4,  5,  6,  7,  8,  9, 10, 11, 12, 13, 14, 15, 16, 17,\n",
              "       18, 19, 20, 21, 22, 23, 24, 25, 26, 27, 28, 29, 30, 31, 32, 33, 34,\n",
              "       35, 36, 37, 38, 39, 40, 41, 42, 43, 44, 45, 46, 47,  0,  0])"
            ]
          },
          "metadata": {},
          "execution_count": 58
        }
      ]
    },
    {
      "cell_type": "code",
      "source": [
        "replace_even_0=np.where(a%2==0,0,a)\n",
        "replace_even_0"
      ],
      "metadata": {
        "colab": {
          "base_uri": "https://localhost:8080/"
        },
        "id": "S35Mr6LSqail",
        "outputId": "06881419-7741-4aed-9f0f-d99a5f61022f"
      },
      "execution_count": null,
      "outputs": [
        {
          "output_type": "execute_result",
          "data": {
            "text/plain": [
              "array([ 1,  0,  3,  0,  5,  0,  7,  0,  9,  0, 11,  0, 13,  0, 15,  0, 17,\n",
              "        0, 19,  0, 21,  0, 23,  0, 25,  0, 27,  0, 29,  0, 31,  0, 33,  0,\n",
              "       35,  0, 37,  0, 39,  0, 41,  0, 43,  0, 45,  0, 47,  0, 49])"
            ]
          },
          "metadata": {},
          "execution_count": 59
        }
      ]
    },
    {
      "cell_type": "code",
      "source": [
        "np.percentile(a,100)"
      ],
      "metadata": {
        "colab": {
          "base_uri": "https://localhost:8080/"
        },
        "id": "OkxzZ2w5qdxx",
        "outputId": "1cd18c01-d192-4a7c-b605-e558e66efda5"
      },
      "execution_count": null,
      "outputs": [
        {
          "output_type": "execute_result",
          "data": {
            "text/plain": [
              "np.float64(49.0)"
            ]
          },
          "metadata": {},
          "execution_count": 60
        }
      ]
    },
    {
      "cell_type": "code",
      "source": [
        "a=np.array([1,2,3,4,1,5,2,6,3,6,2,51,3,5,1,512,5,2,4,2,5,7,8,3,1,3,21,1,1,3,1,4,1,4,1,3,1,2,5,2,5,63,5,3,6,33,655,4,4,4,3,3,3,3,35,5,5,6,1,7,7,8,1,8,7,5,4,3,3])\n",
        "np.histogram(a,bins=[0,50,1000])"
      ],
      "metadata": {
        "colab": {
          "base_uri": "https://localhost:8080/"
        },
        "id": "LOy-lrU4qidZ",
        "outputId": "af58e1e3-92ae-4775-8d03-a78a5b6fd3f8"
      },
      "execution_count": null,
      "outputs": [
        {
          "output_type": "execute_result",
          "data": {
            "text/plain": [
              "(array([65,  4]), array([   0,   50, 1000]))"
            ]
          },
          "metadata": {},
          "execution_count": 61
        }
      ]
    },
    {
      "cell_type": "code",
      "source": [
        "x=np.arange(36).reshape(2,3,6)\n",
        "print(x)\n",
        "print(x[0,Ellipsis])\n",
        "print()\n",
        "print(x[:, :,0])\n",
        "print()\n",
        "print(x[:, np.newaxis, :,:])\n",
        "print()\n",
        "print(x[:, np.newaxis, :,:].shape)\n",
        "print()\n",
        "print(x[np.newaxis,:, :,:])\n",
        "print()\n",
        "print(x[np.newaxis,:,:].shape)"
      ],
      "metadata": {
        "colab": {
          "base_uri": "https://localhost:8080/"
        },
        "id": "5C_uZt_eqlub",
        "outputId": "9fc301b7-2dc0-4643-ca4c-390b3d58a1f9"
      },
      "execution_count": null,
      "outputs": [
        {
          "output_type": "stream",
          "name": "stdout",
          "text": [
            "[[[ 0  1  2  3  4  5]\n",
            "  [ 6  7  8  9 10 11]\n",
            "  [12 13 14 15 16 17]]\n",
            "\n",
            " [[18 19 20 21 22 23]\n",
            "  [24 25 26 27 28 29]\n",
            "  [30 31 32 33 34 35]]]\n",
            "[[ 0  1  2  3  4  5]\n",
            " [ 6  7  8  9 10 11]\n",
            " [12 13 14 15 16 17]]\n",
            "\n",
            "[[ 0  6 12]\n",
            " [18 24 30]]\n",
            "\n",
            "[[[[ 0  1  2  3  4  5]\n",
            "   [ 6  7  8  9 10 11]\n",
            "   [12 13 14 15 16 17]]]\n",
            "\n",
            "\n",
            " [[[18 19 20 21 22 23]\n",
            "   [24 25 26 27 28 29]\n",
            "   [30 31 32 33 34 35]]]]\n",
            "\n",
            "(2, 1, 3, 6)\n",
            "\n",
            "[[[[ 0  1  2  3  4  5]\n",
            "   [ 6  7  8  9 10 11]\n",
            "   [12 13 14 15 16 17]]\n",
            "\n",
            "  [[18 19 20 21 22 23]\n",
            "   [24 25 26 27 28 29]\n",
            "   [30 31 32 33 34 35]]]]\n",
            "\n",
            "(1, 2, 3, 6)\n"
          ]
        }
      ]
    },
    {
      "cell_type": "code",
      "source": [
        "x=np.arange(5)\n",
        "print(x[:,np.newaxis]+x[np.newaxis,:])\n",
        "print()"
      ],
      "metadata": {
        "colab": {
          "base_uri": "https://localhost:8080/"
        },
        "id": "cDYWPn5zqvyZ",
        "outputId": "d906974e-1380-4041-8c02-73fa9b2f8df4"
      },
      "execution_count": null,
      "outputs": [
        {
          "output_type": "stream",
          "name": "stdout",
          "text": [
            "[[0 1 2 3 4]\n",
            " [1 2 3 4 5]\n",
            " [2 3 4 5 6]\n",
            " [3 4 5 6 7]\n",
            " [4 5 6 7 8]]\n",
            "\n"
          ]
        }
      ]
    },
    {
      "cell_type": "code",
      "source": [
        "x=np.arange(25).reshape(5,5)\n",
        "print(x)\n",
        "print()\n",
        "row=np.array([[1,1],[3,3]])\n",
        "col=np.array([[1,-1],[1,-1]])\n",
        "print(x[row,col])\n"
      ],
      "metadata": {
        "colab": {
          "base_uri": "https://localhost:8080/"
        },
        "id": "41obC8ujq2uM",
        "outputId": "b500888d-6c88-4449-9889-d8ec0b9904c6"
      },
      "execution_count": null,
      "outputs": [
        {
          "output_type": "stream",
          "name": "stdout",
          "text": [
            "[[ 0  1  2  3  4]\n",
            " [ 5  6  7  8  9]\n",
            " [10 11 12 13 14]\n",
            " [15 16 17 18 19]\n",
            " [20 21 22 23 24]]\n",
            "\n",
            "[[ 6  9]\n",
            " [16 19]]\n"
          ]
        }
      ]
    },
    {
      "cell_type": "code",
      "source": [],
      "metadata": {
        "id": "vkdBJM7jq8aZ"
      },
      "execution_count": null,
      "outputs": []
    }
  ]
}